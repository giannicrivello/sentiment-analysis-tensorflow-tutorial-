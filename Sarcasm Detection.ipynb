{
 "cells": [
  {
   "cell_type": "code",
   "execution_count": 48,
   "metadata": {},
   "outputs": [],
   "source": [
    "import json\n",
    "import tensorflow as tf\n",
    "\n",
    "from tensorflow.keras.preprocessing.text import Tokenizer\n",
    "from tensorflow.keras.preprocessing.sequence import pad_sequences"
   ]
  },
  {
   "cell_type": "code",
   "execution_count": 49,
   "metadata": {},
   "outputs": [],
   "source": [
    "vocab_size = 10000\n",
    "embedding_dim = 16\n",
    "max_length = 100\n",
    "trunc_type='post'\n",
    "padding_type='post'\n",
    "oov_tok = \"<OOV>\"\n",
    "training_size = 20000\n"
   ]
  },
  {
   "cell_type": "code",
   "execution_count": null,
   "metadata": {},
   "outputs": [],
   "source": []
  },
  {
   "cell_type": "code",
   "execution_count": 50,
   "metadata": {},
   "outputs": [],
   "source": [
    "datastore = [json.loads(line) for line in open('Sarcasm_Headlines_Dataset.json', 'r')]\n",
    "    \n",
    "    \n",
    "sentences = []\n",
    "labels = []\n",
    "urls = []\n",
    "for item in datastore:\n",
    "    sentences.append(item['headline'])\n",
    "    labels.append(item['is_sarcastic'])\n",
    "    urls.append(item['article_link'])"
   ]
  },
  {
   "cell_type": "code",
   "execution_count": 51,
   "metadata": {},
   "outputs": [],
   "source": [
    "tokenizer = Tokenizer(oov_token='<00V>')\n",
    "tokenizer.fit_on_texts(sentences)\n",
    "word_index = tokenizer.word_index"
   ]
  },
  {
   "cell_type": "code",
   "execution_count": 52,
   "metadata": {},
   "outputs": [],
   "source": [
    "sequences = tokenizer.texts_to_sequences(sentences)\n",
    "padded = pad_sequences(sequences, padding='post')\n",
    "\n"
   ]
  },
  {
   "cell_type": "raw",
   "metadata": {},
   "source": [
    "print(padded[0])\n",
    "print(padded.shape)"
   ]
  },
  {
   "cell_type": "code",
   "execution_count": null,
   "metadata": {},
   "outputs": [],
   "source": []
  },
  {
   "cell_type": "code",
   "execution_count": 53,
   "metadata": {},
   "outputs": [],
   "source": [
    "training_sentences = sentences[0:training_size]\n",
    "testing_sentences = sentences[training_size:]\n",
    "training_labels = labels[0:training_size]\n",
    "testing_labels = labels[training_size:]"
   ]
  },
  {
   "cell_type": "code",
   "execution_count": 54,
   "metadata": {},
   "outputs": [],
   "source": [
    "tokenizer = Tokenizer(num_words=vocab_size, oov_token=oov_tok)\n",
    "tokenizer.fit_on_texts(training_sentences)\n",
    "\n",
    "word_index = tokenizer.word_index\n",
    "\n",
    "training_sequences = tokenizer.texts_to_sequences(training_sentences)\n",
    "training_padded = pad_sequences(training_sequences, maxlen=max_length,\n",
    "                               padding=padding_type, truncating=trunc_type)\n",
    "\n",
    "testing_sequences = tokenizer.texts_to_sequences(testing_sentences)\n",
    "testing_padded = pad_sequences(testing_sequences, maxlen=max_length,\n",
    "                              padding=padding_type, truncating=trunc_type)\n",
    "\n",
    "\n",
    "\n",
    "\n"
   ]
  },
  {
   "cell_type": "code",
   "execution_count": 60,
   "metadata": {},
   "outputs": [],
   "source": [
    "# Need this block to get it to work with TensorFlow 2.x\n",
    "import numpy as np\n",
    "training_padded = np.array(training_padded)\n",
    "training_labels = np.array(training_labels)\n",
    "testing_padded = np.array(testing_padded)\n",
    "testing_labels = np.array(testing_labels)"
   ]
  },
  {
   "cell_type": "code",
   "execution_count": null,
   "metadata": {},
   "outputs": [],
   "source": []
  },
  {
   "cell_type": "code",
   "execution_count": 61,
   "metadata": {},
   "outputs": [],
   "source": [
    "# embeding with nueral net\n",
    "\n",
    "model = tf.keras.Sequential([\n",
    "    tf.keras.layers.Embedding(vocab_size, embedding_dim, input_length=max_length),\n",
    "    tf.keras.layers.GlobalAveragePooling1D(),\n",
    "    tf.keras.layers.Dense(24, activation='relu'),\n",
    "    tf.keras.layers.Dense(1, activation='sigmoid')\n",
    "])\n",
    "\n",
    "model.compile(loss='binary_crossentropy', optimizer='adam', metrics=['accuracy'])\n"
   ]
  },
  {
   "cell_type": "code",
   "execution_count": 62,
   "metadata": {},
   "outputs": [
    {
     "name": "stdout",
     "output_type": "stream",
     "text": [
      "Model: \"sequential_3\"\n",
      "_________________________________________________________________\n",
      "Layer (type)                 Output Shape              Param #   \n",
      "=================================================================\n",
      "embedding_3 (Embedding)      (None, 100, 16)           160000    \n",
      "_________________________________________________________________\n",
      "global_average_pooling1d_3 ( (None, 16)                0         \n",
      "_________________________________________________________________\n",
      "dense_6 (Dense)              (None, 24)                408       \n",
      "_________________________________________________________________\n",
      "dense_7 (Dense)              (None, 1)                 25        \n",
      "=================================================================\n",
      "Total params: 160,433\n",
      "Trainable params: 160,433\n",
      "Non-trainable params: 0\n",
      "_________________________________________________________________\n"
     ]
    }
   ],
   "source": [
    "model.summary()"
   ]
  },
  {
   "cell_type": "code",
   "execution_count": 63,
   "metadata": {},
   "outputs": [
    {
     "name": "stdout",
     "output_type": "stream",
     "text": [
      "Epoch 1/30\n",
      "625/625 - 2s - loss: 0.6685 - accuracy: 0.5852 - val_loss: 0.5959 - val_accuracy: 0.7459\n",
      "Epoch 2/30\n",
      "625/625 - 2s - loss: 0.4212 - accuracy: 0.8304 - val_loss: 0.3876 - val_accuracy: 0.8265\n",
      "Epoch 3/30\n",
      "625/625 - 1s - loss: 0.3048 - accuracy: 0.8784 - val_loss: 0.3507 - val_accuracy: 0.8490\n",
      "Epoch 4/30\n",
      "625/625 - 2s - loss: 0.2542 - accuracy: 0.8986 - val_loss: 0.3415 - val_accuracy: 0.8557\n",
      "Epoch 5/30\n",
      "625/625 - 2s - loss: 0.2182 - accuracy: 0.9151 - val_loss: 0.3428 - val_accuracy: 0.8565\n",
      "Epoch 6/30\n",
      "625/625 - 1s - loss: 0.1906 - accuracy: 0.9266 - val_loss: 0.3715 - val_accuracy: 0.8432\n",
      "Epoch 7/30\n",
      "625/625 - 1s - loss: 0.1712 - accuracy: 0.9344 - val_loss: 0.3644 - val_accuracy: 0.8535\n",
      "Epoch 8/30\n",
      "625/625 - 1s - loss: 0.1510 - accuracy: 0.9460 - val_loss: 0.3820 - val_accuracy: 0.8530\n",
      "Epoch 9/30\n",
      "625/625 - 1s - loss: 0.1362 - accuracy: 0.9512 - val_loss: 0.4026 - val_accuracy: 0.8505\n",
      "Epoch 10/30\n",
      "625/625 - 1s - loss: 0.1225 - accuracy: 0.9575 - val_loss: 0.4229 - val_accuracy: 0.8495\n",
      "Epoch 11/30\n",
      "625/625 - 1s - loss: 0.1110 - accuracy: 0.9625 - val_loss: 0.4593 - val_accuracy: 0.8411\n",
      "Epoch 12/30\n",
      "625/625 - 1s - loss: 0.1012 - accuracy: 0.9646 - val_loss: 0.4704 - val_accuracy: 0.8448\n",
      "Epoch 13/30\n",
      "625/625 - 1s - loss: 0.0938 - accuracy: 0.9683 - val_loss: 0.4993 - val_accuracy: 0.8423\n",
      "Epoch 14/30\n",
      "625/625 - 1s - loss: 0.0837 - accuracy: 0.9722 - val_loss: 0.5314 - val_accuracy: 0.8378\n",
      "Epoch 15/30\n",
      "625/625 - 2s - loss: 0.0760 - accuracy: 0.9757 - val_loss: 0.5682 - val_accuracy: 0.8334\n",
      "Epoch 16/30\n",
      "625/625 - 1s - loss: 0.0707 - accuracy: 0.9771 - val_loss: 0.5862 - val_accuracy: 0.8350\n",
      "Epoch 17/30\n",
      "625/625 - 1s - loss: 0.0642 - accuracy: 0.9800 - val_loss: 0.6147 - val_accuracy: 0.8325\n",
      "Epoch 18/30\n",
      "625/625 - 1s - loss: 0.0574 - accuracy: 0.9828 - val_loss: 0.6588 - val_accuracy: 0.8295\n",
      "Epoch 19/30\n",
      "625/625 - 1s - loss: 0.0552 - accuracy: 0.9833 - val_loss: 0.6803 - val_accuracy: 0.8287\n",
      "Epoch 20/30\n",
      "625/625 - 2s - loss: 0.0493 - accuracy: 0.9850 - val_loss: 0.7321 - val_accuracy: 0.8246\n",
      "Epoch 21/30\n",
      "625/625 - 1s - loss: 0.0442 - accuracy: 0.9871 - val_loss: 0.7533 - val_accuracy: 0.8210\n",
      "Epoch 22/30\n",
      "625/625 - 2s - loss: 0.0395 - accuracy: 0.9889 - val_loss: 0.8006 - val_accuracy: 0.8231\n",
      "Epoch 23/30\n",
      "625/625 - 2s - loss: 0.0378 - accuracy: 0.9892 - val_loss: 0.8232 - val_accuracy: 0.8199\n",
      "Epoch 24/30\n",
      "625/625 - 2s - loss: 0.0352 - accuracy: 0.9898 - val_loss: 0.8584 - val_accuracy: 0.8188\n",
      "Epoch 25/30\n",
      "625/625 - 2s - loss: 0.0314 - accuracy: 0.9907 - val_loss: 0.9057 - val_accuracy: 0.8153\n",
      "Epoch 26/30\n",
      "625/625 - 2s - loss: 0.0287 - accuracy: 0.9920 - val_loss: 0.9399 - val_accuracy: 0.8150\n",
      "Epoch 27/30\n",
      "625/625 - 2s - loss: 0.0279 - accuracy: 0.9920 - val_loss: 0.9867 - val_accuracy: 0.8167\n",
      "Epoch 28/30\n",
      "625/625 - 2s - loss: 0.0258 - accuracy: 0.9929 - val_loss: 1.0172 - val_accuracy: 0.8129\n",
      "Epoch 29/30\n",
      "625/625 - 2s - loss: 0.0244 - accuracy: 0.9927 - val_loss: 1.0611 - val_accuracy: 0.8176\n",
      "Epoch 30/30\n",
      "625/625 - 2s - loss: 0.0229 - accuracy: 0.9933 - val_loss: 1.0926 - val_accuracy: 0.8149\n"
     ]
    }
   ],
   "source": [
    "# training the model\n",
    "num_epochs = 30\n",
    "history = model.fit(training_padded, training_labels, epochs=num_epochs, validation_data=(testing_padded, testing_labels), verbose=2)"
   ]
  },
  {
   "cell_type": "code",
   "execution_count": 68,
   "metadata": {},
   "outputs": [
    {
     "name": "stdout",
     "output_type": "stream",
     "text": [
      "[[9.9249256e-01]\n",
      " [5.1118510e-05]]\n"
     ]
    }
   ],
   "source": [
    "# predict on new sentences\n",
    "\n",
    "sentence = [\n",
    "    'granny starting to fear spiders in the garden might be real',\n",
    "    'the weather today is bright and sunny']\n",
    "\n",
    "sequences = tokenizer.texts_to_sequences(sentence)\n",
    "\n",
    "padded = pad_sequences(sequences, maxlen=max_length,\n",
    "                      padding=padding_type,\n",
    "                      truncating=trunc_type)\n",
    "\n",
    "print(model.predict(padded))"
   ]
  },
  {
   "cell_type": "code",
   "execution_count": 77,
   "metadata": {},
   "outputs": [],
   "source": [
    "model = tf.keras.Sequential([\n",
    "    tf.keras.layers.Embedding(vocab_size, 64),\n",
    "    tf.keras.layers.Bidirectional(tf.keras.layers.LSTM(64, return_sequences=True)),\n",
    "    tf.keras.layers.Bidirectional(tf.keras.layers.LSTM(32)),\n",
    "    tf.keras.layers.Dense(64, activation='relu'),\n",
    "    tf.keras.layers.Dense(1, activation='sigmoid')\n",
    "])"
   ]
  },
  {
   "cell_type": "code",
   "execution_count": 78,
   "metadata": {},
   "outputs": [
    {
     "name": "stdout",
     "output_type": "stream",
     "text": [
      "Model: \"sequential_6\"\n",
      "_________________________________________________________________\n",
      "Layer (type)                 Output Shape              Param #   \n",
      "=================================================================\n",
      "embedding_8 (Embedding)      (None, None, 64)          640000    \n",
      "_________________________________________________________________\n",
      "bidirectional_4 (Bidirection (None, None, 128)         66048     \n",
      "_________________________________________________________________\n",
      "bidirectional_5 (Bidirection (None, 64)                41216     \n",
      "_________________________________________________________________\n",
      "dense_14 (Dense)             (None, 64)                4160      \n",
      "_________________________________________________________________\n",
      "dense_15 (Dense)             (None, 1)                 65        \n",
      "=================================================================\n",
      "Total params: 751,489\n",
      "Trainable params: 751,489\n",
      "Non-trainable params: 0\n",
      "_________________________________________________________________\n"
     ]
    }
   ],
   "source": [
    "model.summary()"
   ]
  },
  {
   "cell_type": "code",
   "execution_count": null,
   "metadata": {},
   "outputs": [],
   "source": []
  }
 ],
 "metadata": {
  "kernelspec": {
   "display_name": "Python 3",
   "language": "python",
   "name": "python3"
  },
  "language_info": {
   "codemirror_mode": {
    "name": "ipython",
    "version": 3
   },
   "file_extension": ".py",
   "mimetype": "text/x-python",
   "name": "python",
   "nbconvert_exporter": "python",
   "pygments_lexer": "ipython3",
   "version": "3.7.6"
  }
 },
 "nbformat": 4,
 "nbformat_minor": 4
}
